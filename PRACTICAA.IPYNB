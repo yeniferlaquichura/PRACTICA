{
 "cells": [
  {
   "cell_type": "markdown",
   "metadata": {},
   "source": [
    "1. Escribir un programa que almacene una cadena de caracteres para contraseña en una variable, pregunte al usuario por la contraseña e imprima por pantalla si la contraseña introducida por el usuario coincide con la guardada en la variable sin tener en cuenta mayúsculas y minúsculas."
   ]
  },
  {
   "cell_type": "code",
   "execution_count": 2,
   "metadata": {},
   "outputs": [
    {
     "name": "stdout",
     "output_type": "stream",
     "text": [
      "La contraseña es incorrecta. Inténtalo de nuevo.\n"
     ]
    }
   ],
   "source": [
    "contrasena_guardada = \"ContraseñaSegura123\"\n",
    "contrasena_usuario = input(\"Por favor, ingresa la contraseña: \")\n",
    "if contrasena_guardada.lower() == contrasena_usuario.lower():\n",
    "    print(\"¡La contraseña es correcta!\")\n",
    "else:\n",
    "    print(\"La contraseña es incorrecta. Inténtalo de nuevo.\")"
   ]
  },
  {
   "cell_type": "markdown",
   "metadata": {},
   "source": [
    "2. Escribir un programa que pida al usuarionúmeros y muestre por pantalla su división. Si el divisor es ceroprograma debe mostrar un error.\n"
   ]
  },
  {
   "cell_type": "code",
   "execution_count": 3,
   "metadata": {},
   "outputs": [
    {
     "name": "stdout",
     "output_type": "stream",
     "text": [
      "El resultado de la división es: 2.5\n"
     ]
    }
   ],
   "source": [
    "dividendo = float(input(\"Ingresa el dividendo: \"))\n",
    "divisor = float(input(\"Ingresa el divisor: \"))\n",
    "if divisor == 0:\n",
    "    print(\"Error: No se puede dividir por cero.\")\n",
    "else:\n",
    "    resultado = dividendo / divisor\n",
    "    print(\"El resultado de la división es:\", resultado)"
   ]
  },
  {
   "cell_type": "markdown",
   "metadata": {},
   "source": [
    "3. Un cuidadano para crear su empresa y pagar impuestos debe ser mayor de 18 años y tener unos ingresos iguales o superiores a 2000 soles mensuales. Escribir un programa quepregunte al usuario su edad y sus ingresos mensuales y muestre por pantalla si el usuario tiene que pagar impuestos o no."
   ]
  },
  {
   "cell_type": "code",
   "execution_count": 4,
   "metadata": {},
   "outputs": [
    {
     "name": "stdout",
     "output_type": "stream",
     "text": [
      "No estás obligado a pagar impuestos en este momento.\n"
     ]
    }
   ],
   "source": [
    "edad = int(input(\"Por favor, ingresa tu edad: \"))\n",
    "ingresos_mensuales = float(input(\"Ingresa tus ingresos mensuales en soles: \"))\n",
    "\n",
    "if edad >= 18 and ingresos_mensuales >= 2000:\n",
    "    print(\"¡Debes pagar impuestos!\")\n",
    "else:\n",
    "    print(\"No estás obligado a pagar impuestos en este momento.\")"
   ]
  },
  {
   "cell_type": "markdown",
   "metadata": {},
   "source": [
    "4. Los alumnos de un curso de HDS se han dividido en dos grupos A y B de acuerdo al sexo y el nombre. El grupo A esta formado por las mujeres connombre anterior a la M ylos hombres con un nombre posterior a la N y el grupo B por el resto. Escribirprograma que pregunte al usuario su nombre y sexo, y muestre por pantalla el grupo que lecorresponde."
   ]
  },
  {
   "cell_type": "code",
   "execution_count": 5,
   "metadata": {},
   "outputs": [
    {
     "name": "stdout",
     "output_type": "stream",
     "text": [
      "Tu nombre y sexo te clasifican en el grupo: B\n"
     ]
    }
   ],
   "source": [
    "nombre = input(\"Por favor, ingresa tu nombre: \")\n",
    "sexo = input(\"Ingresa tu sexo (Femenino o Masculino): \")\n",
    "nombre = nombre.lower()\n",
    "if (sexo.lower() == \"femenino\" and nombre < \"m\") or (sexo.lower() == \"masculino\" and nombre > \"n\"):\n",
    "    grupo = \"A\"\n",
    "else:\n",
    "    grupo = \"B\"\n",
    "\n",
    "print(\"Tu nombre y sexo te clasifican en el grupo:\", grupo)"
   ]
  },
  {
   "cell_type": "markdown",
   "metadata": {},
   "source": [
    "5. Una empresa tiene diferentes salasjuegos para todas las edades y quiere un programa que calculeforma automática el precio que debe cobrarsus clientes por entrar.El programa debe preguntar al usuarioedad del cliente y mostrar el precio de la entrada. Si el cliente es menor de 4 años puede entrar gratis, si tiene entre 4 y 18 añosdebe pagar 10 soles y si es mayor de 18 años, 20 soles."
   ]
  },
  {
   "cell_type": "code",
   "execution_count": 6,
   "metadata": {},
   "outputs": [
    {
     "name": "stdout",
     "output_type": "stream",
     "text": [
      "El precio de la entrada para el cliente de 25 años es: 20 soles.\n"
     ]
    }
   ],
   "source": [
    "edad = int(input(\"Por favor, ingresa la edad del cliente: \"))\n",
    "if edad < 4:\n",
    "    precio_entrada = 0  \n",
    "elif 4 <= edad <= 18:\n",
    "    precio_entrada = 10  \n",
    "else:\n",
    "    precio_entrada = 20  \n",
    "\n",
    "print(f\"El precio de la entrada para el cliente de {edad} años es: {precio_entrada} soles.\")"
   ]
  },
  {
   "cell_type": "markdown",
   "metadata": {},
   "source": [
    "6. Escribir un programa que pregunte al usuario su edad y muestre por pantalla todos los años que ha cumplido, desde su primer añito."
   ]
  },
  {
   "cell_type": "code",
   "execution_count": 7,
   "metadata": {},
   "outputs": [
    {
     "name": "stdout",
     "output_type": "stream",
     "text": [
      "Años cumplidos desde tu primer año hasta la edad actual:\n",
      "1\n",
      "2\n",
      "3\n",
      "4\n",
      "5\n",
      "6\n",
      "7\n",
      "8\n",
      "9\n",
      "10\n",
      "11\n",
      "12\n",
      "13\n",
      "14\n",
      "15\n",
      "16\n",
      "17\n",
      "18\n",
      "19\n"
     ]
    }
   ],
   "source": [
    "edad = int(input(\"Por favor, ingresa tu edad: \"))\n",
    "\n",
    "print(\"Años cumplidos desde tu primer año hasta la edad actual:\")\n",
    "for i in range(1, edad + 1):\n",
    "    print(i)"
   ]
  },
  {
   "cell_type": "markdown",
   "metadata": {},
   "source": [
    "7. Escribir un programa que pida al usuario un número entero y muestre por pantalla un triángulo rectángulo como el de más abajo, de altura el número introducido. &\n",
    "&&\n",
    "&&&"
   ]
  },
  {
   "cell_type": "code",
   "execution_count": 9,
   "metadata": {},
   "outputs": [
    {
     "name": "stdout",
     "output_type": "stream",
     "text": [
      "&\n",
      "&&\n",
      "&&&\n",
      "&&&&\n",
      "&&&&&\n",
      "&&&&&&\n"
     ]
    }
   ],
   "source": [
    "altura = int(input(\"Por favor, ingresa un número entero para la altura del triángulo: \"))\n",
    "\n",
    "for i in range(1, altura + 1):\n",
    "    print(\"&\" * i)"
   ]
  },
  {
   "cell_type": "markdown",
   "metadata": {},
   "source": [
    "8. Escribir un programa que pida al usuario una palabra y luego muestre por pantalla una a una las letras de la palabra introducida empezando por la última."
   ]
  },
  {
   "cell_type": "code",
   "execution_count": 10,
   "metadata": {},
   "outputs": [
    {
     "name": "stdout",
     "output_type": "stream",
     "text": [
      "Las letras de la palabra introducida, empezando por la última:\n",
      "E\n",
      "N\n",
      "A\n",
      "I\n",
      "L\n",
      "E\n"
     ]
    }
   ],
   "source": [
    "palabra = input(\"Por favor, ingresa una palabra: \")\n",
    "print(\"Las letras de la palabra introducida, empezando por la última:\")\n",
    "for letra in reversed(palabra):\n",
    "    print(letra)"
   ]
  },
  {
   "cell_type": "markdown",
   "metadata": {},
   "source": [
    "9. Escribir un programa en el que se pregunte al usuario por una frase y una letra, y muestre por pantalla el número de veces que aparece la letra en la frase."
   ]
  },
  {
   "cell_type": "code",
   "execution_count": 11,
   "metadata": {},
   "outputs": [
    {
     "name": "stdout",
     "output_type": "stream",
     "text": [
      "La letra 'E' aparece 2 veces en la frase.\n"
     ]
    }
   ],
   "source": [
    "frase = input(\"Por favor, ingresa una frase: \")\n",
    "letra = input(\"Ingresa una letra para buscar en la frase: \")\n",
    "contador = frase.count(letra)\n",
    "print(f\"La letra '{letra}' aparece {contador} veces en la frase.\")"
   ]
  },
  {
   "cell_type": "markdown",
   "metadata": {},
   "source": [
    "10. 10. Escribir un programa que pida al usuario un número entero y muestre por pantalla un triángulo rectángulo como el de más abajo.\n",
    "1\n",
    "31\n",
    "531\n",
    "7531"
   ]
  },
  {
   "cell_type": "code",
   "execution_count": 14,
   "metadata": {},
   "outputs": [
    {
     "name": "stdout",
     "output_type": "stream",
     "text": [
      "2\n",
      "31\n",
      "42\n",
      "531\n",
      "642\n",
      "7531\n",
      "8642\n",
      "97531\n",
      "108642\n",
      "1197531\n"
     ]
    }
   ],
   "source": [
    "numero = int(input(\"Por favor, ingresa un número entero: \"))\n",
    "for i in range(1, numero + 1):\n",
    "    for j in range(i, 0, -1):\n",
    "        print(j, end=\"\")\n",
    "    print()  "
   ]
  }
 ],
 "metadata": {
  "kernelspec": {
   "display_name": "Python 3",
   "language": "python",
   "name": "python3"
  },
  "language_info": {
   "codemirror_mode": {
    "name": "ipython",
    "version": 3
   },
   "file_extension": ".py",
   "mimetype": "text/x-python",
   "name": "python",
   "nbconvert_exporter": "python",
   "pygments_lexer": "ipython3",
   "version": "3.12.0"
  }
 },
 "nbformat": 4,
 "nbformat_minor": 2
}
